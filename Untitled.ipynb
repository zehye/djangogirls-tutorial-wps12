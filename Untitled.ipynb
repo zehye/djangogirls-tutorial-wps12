{
 "cells": [
  {
   "cell_type": "code",
   "execution_count": 4,
   "metadata": {},
   "outputs": [],
   "source": [
    "from blog.models import Post\n",
    "# Post.objects.all()"
   ]
  },
  {
   "cell_type": "code",
   "execution_count": 11,
   "metadata": {},
   "outputs": [],
   "source": [
    "# Post.objects.create(\n",
    "#     author = 'me',\n",
    "#     title = 'hi',\n",
    "#     text = 'alkdnaslkdn'\n",
    "# )"
   ]
  },
  {
   "cell_type": "code",
   "execution_count": 13,
   "metadata": {},
   "outputs": [],
   "source": [
    "# from django.contrib.auth.models import User\n",
    "\n",
    "# me = User.objects.get(username = 'zehye')\n",
    "\n",
    "# post = Post.objects.create(\n",
    "#     author = me,\n",
    "#     title = 'hi',\n",
    "#     text = 'laksdnalskdas'\n",
    "# )\n",
    "\n",
    "# post"
   ]
  },
  {
   "cell_type": "code",
   "execution_count": 15,
   "metadata": {},
   "outputs": [],
   "source": [
    "# Post.objects.filter(text__contains='인터프리터')"
   ]
  },
  {
   "cell_type": "code",
   "execution_count": 16,
   "metadata": {},
   "outputs": [],
   "source": [
    "# Post.objects.filter(text__contains='자바')"
   ]
  },
  {
   "cell_type": "code",
   "execution_count": 17,
   "metadata": {},
   "outputs": [],
   "source": [
    "# from django.utils import timezone\n",
    "# from datetime import timedelta\n",
    "\n",
    "# now = timezone.now()\n",
    "# Post.objects.filter(create_date__ite=timezone.now() - timedelta(hours=1))"
   ]
  },
  {
   "cell_type": "code",
   "execution_count": 18,
   "metadata": {},
   "outputs": [],
   "source": [
    "# Post.objects.filter(create_date__qt=timezone.now() = timedelta(hours=1))"
   ]
  },
  {
   "cell_type": "code",
   "execution_count": null,
   "metadata": {},
   "outputs": [],
   "source": []
  }
 ],
 "metadata": {
  "kernelspec": {
   "display_name": "Django Shell-Plus",
   "language": "python",
   "name": "django_extensions"
  },
  "language_info": {
   "codemirror_mode": {
    "name": "ipython",
    "version": 3
   },
   "file_extension": ".py",
   "mimetype": "text/x-python",
   "name": "python",
   "nbconvert_exporter": "python",
   "pygments_lexer": "ipython3",
   "version": "3.7.4"
  }
 },
 "nbformat": 4,
 "nbformat_minor": 2
}
